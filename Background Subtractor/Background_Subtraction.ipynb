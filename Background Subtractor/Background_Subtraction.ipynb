{
  "nbformat": 4,
  "nbformat_minor": 0,
  "metadata": {
    "colab": {
      "name": "Background Subtraction.ipynb",
      "provenance": [],
      "collapsed_sections": []
    },
    "kernelspec": {
      "name": "python3",
      "display_name": "Python 3"
    },
    "language_info": {
      "name": "python"
    }
  },
  "cells": [
    {
      "cell_type": "markdown",
      "metadata": {
        "id": "gFGMxsjxSXYT"
      },
      "source": [
        "# Background Subtraction \n",
        "\n",
        "This script can perform background subtraction on multiple videos and save the results in the folder. There are two background subtraction methods available in OpenCV. understand background subtraction [here](https://www.cronj.com/blog/background-subtraction/).\n",
        "1. Background Subtraction using MOG algorithm ( [link text](https://stackoverflow.com/questions/33266239/differences-between-mog-mog2-and-gmg) for concept understanding)\n",
        "2. Background Subtraction using KNN algorithm\n",
        "\n",
        "\n",
        "\n"
      ]
    },
    {
      "cell_type": "code",
      "metadata": {
        "id": "YgOPPLsziZYb"
      },
      "source": [
        "import cv2\n",
        "import numpy as np\n",
        "import os\n",
        "from google.colab.patches import cv2_imshow\n",
        "\n",
        "counter = 0\n",
        "\n",
        "def background_subtraction(file):\n",
        "    global counter\n",
        "    counter += 1\n",
        "    print(counter,file)\n",
        "    new = str(counter) +'new' + '.avi'\n",
        "    path = '/content/drive/MyDrive/BGSub/Bgsubvideo/' + new\n",
        "    capture = cv2.VideoCapture(file)\n",
        "    rec, frame = capture.read()\n",
        "    backsub_MOG = cv2.createBackgroundSubtractorMOG2()\n",
        "    backsub_KNN = cv2.createBackgroundSubtractorKNN()\n",
        "    myvideo=cv2.VideoWriter(path, cv2.VideoWriter_fourcc('M','J','P','G'), 30, (int(frame.shape[1]),int(frame.shape[0])))\n",
        "    while(rec):\n",
        "        rec, frame = capture.read()\n",
        "        print(rec)\n",
        "        fgmask1 = backsub_MOG.apply(frame)      # MOG based background Subtraction algorithm  \n",
        "        #fgmask2 = backsub_KNN.apply(frame)     # KNN based background subtraction algorithm\n",
        "        fg1 = cv2.copyTo(frame,fgmask1)\n",
        "        #fg2 = cv2.copyTo(frame,fgmask2)\n",
        "        myvideo.write(fg1)                       # Passing masked frames for saving BG sub. video\n",
        "        # cv2.rectangle(frame, (10, 2), (100,20), (255,255,255), -1)\n",
        "        # cv2.putText(frame, str(capture.get(cv2.CAP_PROP_POS_FRAMES)), (15, 15),\n",
        "        #        cv2.FONT_HERSHEY_SIMPLEX, 0.5 , (0,0,0))\n",
        "        #cv2_imshow('fg',fgmask1)                # visualize BG subtracted video\n",
        "        if cv2.waitKey(1) & 0xFF == ord('q'):\n",
        "            break\n",
        "    capture.release()\n",
        "    cv2.destroyAllWindows()\n",
        "    "
      ],
      "execution_count": null,
      "outputs": []
    },
    {
      "cell_type": "code",
      "metadata": {
        "colab": {
          "base_uri": "https://localhost:8080/"
        },
        "id": "a8hiO5lGHqLr",
        "outputId": "a5ce8946-9773-47e7-db3d-515bc24135ac"
      },
      "source": [
        "%cd /content/drive/MyDrive/BGSub/train_videos/        # change directory to the video directory\n",
        "!ls"
      ],
      "execution_count": null,
      "outputs": [
        {
          "output_type": "stream",
          "name": "stdout",
          "text": [
            "/content/drive/MyDrive/BGSub/train_videos\n",
            "00_06_10_to_00_06_27.mp4\t\t     GOPR5843_002.mp4\n",
            "00_09_30_to_00_10_09.mp4\t\t     GOPR5843_005.mp4\n",
            "00_10_09_to_00_10_40.mp4\t\t     GOPR5844_002.mp4\n",
            "2019_08_19_C0001_5319_phantom.mp4\t     GOPR5844_004.mp4\n",
            "2019_08_19_GOPR5869_1530_phantom.mp4\t     GOPR5845_001.mp4\n",
            "2019_08_19_GP015869_1520_inspire.mp4\t     GOPR5845_004.mp4\n",
            "2019_09_02_C0002_2527_inspire.mp4\t     GOPR5846_002.mp4\n",
            "2019_09_02_C0002_3700_mavic.mp4\t\t     GOPR5846_005.mp4\n",
            "2019_09_02_GOPR5871_1058_solo.mp4\t     GOPR5847_003.mp4\n",
            "2019_10_16_C0003_1700_matrice.mp4\t     GOPR5847_004.mp4\n",
            "2019_10_16_C0003_3633_inspire.mp4\t     GOPR5848_002.mp4\n",
            "2019_10_16_C0003_4613_mavic.mp4\t\t     GOPR5848_004.mp4\n",
            "2019_10_16_C0003_5043_mavic.mp4\t\t     gopro_000.mp4\n",
            "2019_11_14_C0001_3922_matrice.mp4\t     gopro_001.mp4\n",
            "custom_fixed_wing_1.avi\t\t\t     gopro_002.mp4\n",
            "custom_fixed_wing_2.avi\t\t\t     gopro_003.mp4\n",
            "distant_parrot_2.avi\t\t\t     gopro_004.mp4\n",
            "distant_parrot_with_birds.avi\t\t     gopro_005.mp4\n",
            "dji_matrice_210_hillside.avi\t\t     gopro_006.mp4\n",
            "dji_matrice_210_mountain.avi\t\t     gopro_007.mp4\n",
            "dji_matrice_210_off_focus.avi\t\t     gopro_008.mp4\n",
            "dji_matrice_210_sky.avi\t\t\t     matrice_600_2.avi\n",
            "dji_mavick_close_buildings.avi\t\t     matrice_600_3.avi\n",
            "dji_mavick_distant_hillside.avi\t\t     off_focus_parrot_birds.avi\n",
            "dji_mavick_hillside_off_focus.avi\t     parot_disco_takeoff.avi\n",
            "dji_mavick_mountain.avi\t\t\t     parrot_clear_birds.avi\n",
            "dji_mavick_mountain_cruise.avi\t\t     parrot_clear_birds_med_range.avi\n",
            "dji_pantom_landing_custom_fixed_takeoff.avi  parrot_disco_distant_cross_3.avi\n",
            "dji_phantom_4_hillside_cross.avi\t     parrot_disco_distant_cross.avi\n",
            "dji_phantom_4_long_takeoff.avi\t\t     parrot_disco_long_session.mp4\n",
            "dji_phantom_4_mountain_hover.avi\t     parrot_disco_midrange_cross.avi\n",
            "dji_phantom_4_swarm_noon.avi\t\t     parrot_disco_zoomin_zoomout.avi\n",
            "dji_phantom_mountain_cross.avi\t\t     swarm_dji_phantom4_2.avi\n",
            "fixed_wing_over_hill_1.avi\t\t     swarm_dji_phantom.avi\n",
            "fixed_wing_over_hill_2.avi\t\t     two_distant_phantom.avi\n",
            "GOPR5842_002.mp4\t\t\t     two_parrot_disco_1.avi\n",
            "GOPR5842_005.mp4\t\t\t     two_uavs_plus_airplane.avi\n",
            "GOPR5842_007.mp4\n"
          ]
        }
      ]
    },
    {
      "cell_type": "code",
      "metadata": {
        "id": "W3g7XmdYl3sq"
      },
      "source": [
        "import os\n",
        "filename = os.listdir()               #creates a list of contents in the CWD folder\n",
        "#filename.remove('Mybg.py')\n",
        "#filename.remove('1-.avi')\n",
        "for file in filename:\n",
        "    print('this is before', file)\n",
        "    background_subtraction(file)        #function call\n",
        "    print('after')\n",
        "\n",
        "\n",
        "# Output is very long so avoiding running it."
      ],
      "execution_count": null,
      "outputs": []
    },
    {
      "cell_type": "code",
      "metadata": {
        "id": "MctZmvcEGnN8"
      },
      "source": [
        ""
      ],
      "execution_count": null,
      "outputs": []
    }
  ]
}